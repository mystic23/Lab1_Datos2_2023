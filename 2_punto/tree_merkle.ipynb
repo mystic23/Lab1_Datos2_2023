{
 "cells": [
  {
   "attachments": {},
   "cell_type": "markdown",
   "metadata": {},
   "source": [
    ">**ENFOQUE: \"CRIPTOGRAFÍA\"**\n",
    "\n",
    "*Tipo de arbol: \"Tree Merkle\"*"
   ]
  },
  {
   "attachments": {},
   "cell_type": "markdown",
   "metadata": {},
   "source": [
    ">>[1] ¿Qué es un arbol de merkle?\n",
    "\n",
    "    \"Un árbol de Merkle es una estructura de datos en forma de árbol donde cada nodo hoja es un hash criptográfico que representa un bloque de datos,\n",
    "    y cada nodo no hoja es el hash de los hijos inmediatos. Esta estructura se utiliza en criptografía para verificar la integridad de datos y asegurar\n",
    "    que no ha habido cambios no autorizados en un conjunto de datos\" (Merkle, 1987)."
   ]
  },
  {
   "attachments": {},
   "cell_type": "markdown",
   "metadata": {},
   "source": [
    ">>[2] Problema a resolver:\n",
    "\n",
    "**Pruebas de conocimiento cero ( Zero Knowledge Proof)**\n",
    "    "
   ]
  },
  {
   "attachments": {},
   "cell_type": "markdown",
   "metadata": {},
   "source": [
    "**Referencias:**\n",
    "\n",
    "1.  Merkle, R. C. (1987). A digital signature based on a conventional encryption function. Advances in Cryptology — CRYPTO ’87 Proceedings, 369-378. doi: 10.1007/3-540-48184-2_32."
   ]
  }
 ],
 "metadata": {
  "kernelspec": {
   "display_name": "Python 3",
   "language": "python",
   "name": "python3"
  },
  "language_info": {
   "name": "python",
   "version": "3.10.6"
  },
  "orig_nbformat": 4,
  "vscode": {
   "interpreter": {
    "hash": "916dbcbb3f70747c44a77c7bcd40155683ae19c65e1c03b4aa3499c5328201f1"
   }
  }
 },
 "nbformat": 4,
 "nbformat_minor": 2
}
