{
 "cells": [
  {
   "attachments": {},
   "cell_type": "markdown",
   "metadata": {},
   "source": [
    ">**ENFOQUE: \"CRIPTOGRAFÍA\"**\n",
    "\n",
    "*Tipo de arbol: \"Tree Merkle\"*"
   ]
  },
  {
   "attachments": {},
   "cell_type": "markdown",
   "metadata": {},
   "source": [
    ">[1] **¿Qué es un arbol de merkle?**\n",
    "\n",
    "    \"Un árbol de Merkle es una estructura de datos en forma de árbol donde cada nodo hoja es un hash criptográfico que representa un bloque de datos, y cada nodo no hoja es el hash de los hijos inmediatos. Esta estructura se utiliza en criptografía para verificar la integridad de datos y asegurar que no ha habido cambios no autorizados en un conjunto de datos\" (Merkle, 1987)."
   ]
  },
  {
   "attachments": {},
   "cell_type": "markdown",
   "metadata": {},
   "source": [
    ">[2] **Problema a resolver:**\n",
    "\n",
    "**Pruebas de conocimiento cero ( Zero Knowledge Proof)**\n",
    "\n",
    "- **¿Qué es la prueba de conocimiento cero?**\n",
    "\n",
    "        En criptografía, un **protocolo de conocimiento cero o prueba de conocimiento nulo**, también conocidas por las siglas ZKP, es un  protocolo criptográfico que establece un metodo para que una de las  \n",
    "        partes prueba a otra que una declaración (generalmente matemática) es  cierta, sin revelar nada más que la veracidad de la declaración.     \n",
    "\n",
    "- **¿Comó se usa el arbol de merkle en la prueba de conocimiento cero?**\n",
    "\n",
    "        El árbol de Merkle se utiliza en la prueba de conocimiento cero (ZKP) para permitir que un participante demuestre que conoce un valor secreto  \n",
    "        sin revelarlo al otro participante. El participante que conoce el valor secreto construye un árbol de Merkle que incluye el valor secreto como  \n",
    "        una hoja del árbol, y luego genera una prueba que consiste en una lista de hashes de hermanos en el árbol de Merkle. El otro participante puede     \n",
    "        verificar la prueba comparando los hashes de los hermanos proporcionados con los hashes en el árbol de Merkle que tiene. Esto permite que el    \n",
    "        participante que no conoce el valor secreto verifique que el participante que conoce el valor secreto tiene conocimiento del valor sin revelarlo.\n",
    "        \n",
    "\n",
    "\n",
    "    "
   ]
  },
  {
   "attachments": {},
   "cell_type": "markdown",
   "metadata": {},
   "source": [
    "**Referencias:**\n",
    "\n",
    "1.  Merkle, R. C. (1987). A digital signature based on a conventional encryption function. Advances in Cryptology — CRYPTO ’87 Proceedings, 369-378. doi: 10.1007/3-540-48184-2_32.\n",
    "2. Antonopoulos, A. M. (2014). Mastering Bitcoin: Unlocking Digital Cryptocurrencies. O'Reilly Media, Inc."
   ]
  }
 ],
 "metadata": {
  "kernelspec": {
   "display_name": "Python 3",
   "language": "python",
   "name": "python3"
  },
  "language_info": {
   "name": "python",
   "version": "3.10.6"
  },
  "orig_nbformat": 4,
  "vscode": {
   "interpreter": {
    "hash": "916dbcbb3f70747c44a77c7bcd40155683ae19c65e1c03b4aa3499c5328201f1"
   }
  }
 },
 "nbformat": 4,
 "nbformat_minor": 2
}
