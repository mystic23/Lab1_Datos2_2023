{
 "cells": [
  {
   "attachments": {},
   "cell_type": "markdown",
   "metadata": {},
   "source": [
    ">**ENFOQUE: \"CRIPTOGRAFÍA\"**\n",
    "\n",
    "*Tipo de arbol: \"Tree Merkle\"*"
   ]
  },
  {
   "attachments": {},
   "cell_type": "markdown",
   "metadata": {},
   "source": [
    ">[1] **¿Qué es un arbol de merkle?**\n",
    "\n",
    "    \"Un árbol de Merkle es una estructura de datos en forma de árbol donde cada nodo hoja es un hash criptográfico que representa un bloque de datos, y cada nodo no hoja es el hash de los hijos inmediatos. Esta estructura se utiliza en criptografía para verificar la integridad de datos y asegurar que no ha habido cambios no autorizados en un conjunto de datos\" (Merkle, 1987)."
   ]
  },
  {
   "attachments": {},
   "cell_type": "markdown",
   "metadata": {},
   "source": [
    ">[2] **Problema a resolver:**\n",
    "\n",
    "**Pruebas de conocimiento cero ( Zero Knowledge Proof)**\n",
    "\n",
    "- **¿Qué es la prueba de conocimiento cero?**\n",
    "\n",
    "        En criptografía, un protocolo de conocimiento cero o prueba de conocimiento nulo, también conocidas por las siglas ZKP, es un  protocolo criptográfico que establece un metodo para que una de las partes prueba a otra que una declaración (generalmente matemática) es  cierta, sin revelar nada más que la veracidad de la declaración.     \n",
    "\n",
    "- **¿Comó se usa el arbol de merkle en la prueba de conocimiento cero?**\n",
    "\n",
    "        El árbol de Merkle se utiliza en la prueba de conocimiento cero (ZKP) para permitir que un participante demuestre que conoce un valor secreto sin revelarlo al otro participante. El participante que conoce el valor secreto construye un árbol de Merkle que incluye el valor secreto como una hoja del árbol, y luego genera una prueba que consiste en una lista de hashes de hermanos en el árbol de Merkle. El otro participante puede verificar la prueba comparando los hashes de los hermano proporcionados con los hashes en el árbol de Merkle que tiene. Esto permite que el participante que no conoce el valor secreto verifique que el participante que conoce el valor secreto tiene conocimiento del valor sin revelarlo.\n",
    "                \n",
    "\n",
    "\n",
    "    "
   ]
  },
  {
   "attachments": {},
   "cell_type": "markdown",
   "metadata": {},
   "source": [
    ">[3] **Codigo - Explicación - Ejemplo**"
   ]
  },
  {
   "attachments": {},
   "cell_type": "markdown",
   "metadata": {},
   "source": [
    "- **Codigo - Ejemplo**"
   ]
  },
  {
   "cell_type": "code",
   "execution_count": 5,
   "metadata": {},
   "outputs": [
    {
     "name": "stdout",
     "output_type": "stream",
     "text": [
      "La prueba es válida:  True\n"
     ]
    }
   ],
   "source": [
    "import hashlib\n",
    " \n",
    "class MerkleTree:\n",
    "    \"\"\"\n",
    "    Clase que representa un árbol de Merkle.\n",
    "\n",
    "    Un árbol de Merkle es un árbol binario que se utiliza para verificar la integridad de datos.\n",
    "    En un árbol de Merkle, cada hoja representa un fragmento de datos y cada nodo interno es\n",
    "    el hash de sus dos hijos\n",
    "\n",
    "    Args:\n",
    "        leaves (list): Lista de hashes de las hojas del árbol\n",
    "        levels (list): Lista de niveles del árbol, donde cada nivel es una lista de hashes\n",
    "    \"\"\"\n",
    "\n",
    "    def __init__(self, data):\n",
    "        \"\"\"\n",
    "        Inicializa un nuevo árbol de Merkle con los datos proporcionados\n",
    "\n",
    "        Args:\n",
    "            data (list): Lista de datos a incluir en el árbol\n",
    "        \"\"\"\n",
    "\n",
    "        # Calcula el hash de cada dato en la lista y lo agrega como hoja del árbol\n",
    "        self.leaves = [hashlib.sha256(d.encode()).hexdigest() for d in data]\n",
    "\n",
    "        # Calcula los niveles del árbol, comenzando por las hojas y subiendo hacia la raíz\n",
    "        self.levels = [self.leaves]\n",
    "        while len(self.levels[-1]) > 1:\n",
    "            level = self.levels[-1]\n",
    "            next_level = [self.hash_pairs(level[i], level[i+1]) for i in range(0, len(level), 2)]\n",
    "            self.levels.append(next_level)\n",
    "\n",
    "    def hash_pairs(self, a, b):\n",
    "        \"\"\"\n",
    "        Combina dos hashes en un nuevo hash\n",
    "\n",
    "        Args:\n",
    "            a (str): Primer hash a combinar\n",
    "            b (str): Segundo hash a combinar\n",
    "\n",
    "        Returns:\n",
    "            str: El nuevo hash resultante de combinar los dos hashes de entrada\n",
    "        \"\"\"\n",
    "        return hashlib.sha256((a + b).encode()).hexdigest()\n",
    "\n",
    "    def root(self):\n",
    "        \"\"\"\n",
    "        Retorna el hash de la raíz del árbol\n",
    "\n",
    "        Returns:\n",
    "            str: El hash de la raíz del árbol\n",
    "        \"\"\"\n",
    "        return self.levels[-1][0]\n",
    "\n",
    "class ZeroKnowledgeProof:\n",
    "    \"\"\"\n",
    "    Clase para generar y verificar pruebas de conocimiento cero utilizando un árbol de Merkle\n",
    "    \"\"\"\n",
    "    def __init__(self, secret):\n",
    "        \"\"\"\n",
    "        Inicializa un objeto ZeroKnowledgeProof\n",
    "\n",
    "        Parameters:\n",
    "            secret (str): El secreto a utilizar para generar la prueba\n",
    "\n",
    "        Returns:\n",
    "            None\n",
    "        \"\"\"\n",
    "        self.secret = secret\n",
    "\n",
    "    def generate_proof(self, leaf_index):\n",
    "        \"\"\"\n",
    "        Genera una prueba de conocimiento cero para una hoja específica del árbol\n",
    "\n",
    "        Parameters:\n",
    "            leaf_index (int): El índice de la hoja para la cual se quiere generar la prueba\n",
    "\n",
    "        Returns:\n",
    "            list: Una lista con los hermanos de la hoja en el árbol, utilizados para generar la prueba\n",
    "        \"\"\"\n",
    "        proof = []\n",
    "        tree = MerkleTree([self.secret])\n",
    "        level_index = len(tree.levels) - 2\n",
    "        sibling_index = leaf_index ^ 1\n",
    "        for level in reversed(tree.levels[:-1]):\n",
    "            sibling = level[sibling_index]\n",
    "            proof.append(sibling)\n",
    "            sibling_index //= 2\n",
    "        return proof\n",
    "\n",
    "    def verify_proof(self, leaf_value, leaf_index, proof, root):\n",
    "        \"\"\"\n",
    "        Verifica una prueba de conocimiento cero para una hoja específica del árbol\n",
    "\n",
    "        Parameters:\n",
    "            leaf_value (str): El valor de la hoja que se quiere verificar\n",
    "            leaf_index (int): El índice de la hoja que se quiere verificar\n",
    "            proof (list): Una lista con los hermanos de la hoja en el árbol, utilizados para generar la prueba\n",
    "            root (str): La raíz del árbol.\n",
    "\n",
    "        Returns:\n",
    "            bool: True si la prueba es válida, False en caso contrario\n",
    "        \"\"\"\n",
    "        value = leaf_value\n",
    "        for i, sibling in enumerate(proof):\n",
    "            if leaf_index % 2 == 0:\n",
    "                value = hashlib.sha256((value + sibling).encode()).hexdigest()\n",
    "            else:\n",
    "                value = hashlib.sha256((sibling + value).encode()).hexdigest()\n",
    "            leaf_index //= 2\n",
    "        return value == root\n",
    "    \n",
    "# Ejemplo de uso:\n",
    "secret = \"TeAmoJesus\"\n",
    "proof_index = 0  # Prueba para la hoja 0 (el secreto)\n",
    "\n",
    "proof = ZeroKnowledgeProof(secret).generate_proof(proof_index)\n",
    "\n",
    "tree = MerkleTree([secret])\n",
    "root = tree.root()\n",
    "\n",
    "is_verified = ZeroKnowledgeProof(secret).verify_proof(tree.leaves[proof_index], proof_index, proof, root)\n",
    "\n",
    "print(\"La prueba es válida: \", is_verified)"
   ]
  },
  {
   "attachments": {},
   "cell_type": "markdown",
   "metadata": {},
   "source": [
    "- **Explicación**\n",
    "\n",
    "    *Antes de seguir con la explicación es indispensable comentar que este código fue realizado por ChatGPT*\n",
    "\n",
    "    En este caso yo tengo un secreto que es \"secret = TeAmoJesus\", y quiere demostrarle a Jesus que conocel el secreto, sin revelar este. \n",
    "\n",
    "    Primero construimos un arbol de merkle:\n",
    "\n",
    "        >secret = \"TeAmoJesus\"\n",
    "        >tree = MerkleTree([secret])\n",
    "    \n",
    "    El árbol de Merkle tiene solo una hoja, que corresponde a mi secreto. La raíz del árbol es la suma de los hashes de las hojas:\n",
    "\n",
    "        >root = tree.root()\n",
    "        \n",
    "    - *\" **¿Qué es un hash?:** un hash es una función criptográfica que toma una cadena de datos como entrada y produce una cadena de longitud fija que representa el \"hash\" de esos datos. El hash se usa para verificar la integridad de los datos en el árbol, ya que cualquier cambio en los datos producirá un hash diferente. Los hashes se utilizan en cada nodo del árbol para asegurar que los datos que se encuentran en las hojas son los mismos que los datos en la raíz del árbol.\"*\n",
    "    \n",
    "\n",
    "    Seguidamente, genero una prueba de conocimiento cero para la hoja del árbol que contiene el secreto. En este caso, la hoja es la única hoja del árbol, por lo tanto, tiene indice \"0\"\n",
    "\n",
    "        >proof_index = 0\n",
    "        >proof = ZeroKnowledgeProof(secret).\n",
    "        generate_proof(proof_index)\n",
    "    \n",
    "    La prueba que se genero anteriormente es una lista de hashes de hermanos que le permiten a Jesus verificar que conoce el valor de mi secreto en la hoja correspondiente.\n",
    "\n",
    "    Para finalizar, se envía la prueba de conocimiento cero y la raíz del arbol a Jesus. Este utiliza estos dos ultimos para verificar que yo conozco el valor de la hoja correspondiente a mi secreto, sin revelar el secreto.\n",
    "\n",
    "        >is_verified = ZeroKnowledgeProof(secret).\n",
    "        verify_proof(tree.leaves[proof_index],\n",
    "        proof_index, proof, root)\n",
    "    \n",
    "    Esto es lo que imprime el valor de la prueba, puede ser \"True\" o \"False\".\n",
    "\n",
    "        >print(\"La prueba es válida: \", is_verified)\n",
    "\n",
    "    Si la prueba es \"True\", significa que Jesus sabe que yo sé cual es el valor de la hoja correspondiente del árbol de merkle, sin conocer o revelar el secreto mismo.\n",
    "     \n",
    "\n"
   ]
  },
  {
   "attachments": {},
   "cell_type": "markdown",
   "metadata": {},
   "source": [
    ">[4] **¿Por qué escogimos este problema?**\n",
    "\n",
    "- Escogimos este problema porque es un ejemplo práctico del uso de la estructura de datos del árbol de Merkle en la criptografía. La prueba de conocimiento cero es una técnica criptográfica que permite a una persona demostrar que posee cierta información sin revelarla, y el árbol de Merkle es utilizado para crear pruebas de conocimiento cero que sean verificables de forma eficiente. \n"
   ]
  },
  {
   "attachments": {},
   "cell_type": "markdown",
   "metadata": {},
   "source": [
    ">[5] **¿Cuál fue el interés en este tema?**\n",
    "\n",
    "- Este fue de nuestro interés porque uno de los integrantes de nuestro grupo esta interesado en la ciberseguridad.\n",
    "\n",
    ">[6]  **Relación ciberseguridad - Árbol de Merkle**\n",
    "\n",
    "- El árbol de Merkle se utiliza en ciberseguridad para verificar la integridad de datos y asegurar la autenticidad de la información. Por ejemplo, en la tecnología blockchain, cada bloque en la cadena de bloques incluye un hash que representa la transacción anterior y se utiliza para verificar que el bloque no haya sido alterado. También se puede utilizar en sistemas de autenticación, como la autenticación de dos factores, para verificar la autenticidad de un usuario sin revelar información confidencial."
   ]
  },
  {
   "attachments": {},
   "cell_type": "markdown",
   "metadata": {},
   "source": [
    "**Referencias:**\n",
    "\n",
    "[1] Merkle, R.C., \"A digital signature based on a conventional encryption function,\" Advances in Cryptology—CRYPTO '87, Springer Berlin Heidelberg, 369-378, 1988.\n",
    "\n",
    "[2] Antonopoulos, A. M. (2014). Mastering Bitcoin: Unlocking Digital Cryptocurrencies. O'Reilly Media, Inc.\n",
    "\n",
    "[3] B. Schneier, \"Applied Cryptography: Protocols, Algorithms, and Source Code in C,\" John Wiley & Sons, Inc., 1996.\n",
    "\n",
    "[4] OpenAI - ChatGpt"
   ]
  }
 ],
 "metadata": {
  "kernelspec": {
   "display_name": "Python 3",
   "language": "python",
   "name": "python3"
  },
  "language_info": {
   "name": "python",
   "version": "3.10.7"
  },
  "orig_nbformat": 4,
  "vscode": {
   "interpreter": {
    "hash": "c63d8c7d738c2960218a10995aedf0a7f67a49a231e71037adf0440953cdb45b"
   }
  }
 },
 "nbformat": 4,
 "nbformat_minor": 2
}
