{
 "cells": [
  {
   "attachments": {},
   "cell_type": "markdown",
   "metadata": {},
   "source": [
    "**- Primer punto**\n",
    "Debe construir un árbol que se autobalance cada vez que se realice una acción, conforme lo requiera dicha acción. Concretamente este árbol debe poder realizar las siguientes operaciones:  \n",
    "\n",
    "(1) Insertar un nodo (opcional, hacer validación).  \n",
    "(2) Eliminar un nodo.  \n",
    "(3) Buscar un nodo (Queda libre como devolver si el nodo existe).  \n",
    "(4) Recorrido en orden por nivel (De forma recursiva).  \n",
    "(5) La altura dada un nodo (Recordar que la altura de un nodo es definida como el número de aristas más larga desde el nodo hasta un nodo hoja)  \n",
    "(6) Encontrar el abuelo o tío de un nodo dado.  \n",
    "\n",
    "La información con la que debe construir el árbol es la información de los usuarios que colaboraron en la playlist EDII , el criterio para crear el arbol es el ID de cada usuario. Es su tarea explicar cualquier transformación a los datos. (ver anexos para encontrar los datos).   \n",
    "\n",
    "Para puntaje extra: Investigar e implementar una interfaz gráfica donde se puedan apreciar los resultados. (la librería anytree puede ser un comienzo para buscar!). Además, cualquier información extra que pueda extraer de la playlist puede ser merecedora de un puntaje extra"
   ]
  },
  {
   "attachments": {},
   "cell_type": "markdown",
   "metadata": {},
   "source": [
    "**1- Links**\n",
    " "
   ]
  },
  {
   "attachments": {},
   "cell_type": "markdown",
   "metadata": {},
   "source": [
    "**- Segundo punto**\n",
    "Investigar, plantear y resolver un problema en el que se use árboles. No tiene que ser un problema de autoría propia (aunque sería bastante fructífero para ustedes). Puede ser un problema que encontraron y que les pareció de interés por sus intereses en la carrera. En este punto se deben realizar las siguientes actividades:  \n",
    "Investigar, plantear y definir bien un problema en el que se use árboles binarios.  \n",
    "\n",
    "Explicar porque este problema es de su interés.  \n",
    "\n",
    "Resolverlo usando un lenguaje de programación. (Sin importar la autoría el código debe tener su documentación hecha por los integrantes del grupo)    "
   ]
  },
  {
   "attachments": {},
   "cell_type": "markdown",
   "metadata": {},
   "source": [
    "**2- Links**\n"
   ]
  },
  {
   "attachments": {},
   "cell_type": "markdown",
   "metadata": {},
   "source": [
    "**- Tercer punto**\n",
    "Investigar, plantear y resolver un ejemplo en el que se usen arboles B (o B+). El código debe estar documentado y el ejemplo debe ser de autoría propia de los integrantes del grupo. "
   ]
  },
  {
   "attachments": {},
   "cell_type": "markdown",
   "metadata": {},
   "source": [
    "**3- Links**\n"
   ]
  }
 ],
 "metadata": {
  "kernelspec": {
   "display_name": "data_env",
   "language": "python",
   "name": "python3"
  },
  "language_info": {
   "name": "python",
   "version": "3.9.15"
  },
  "orig_nbformat": 4,
  "vscode": {
   "interpreter": {
    "hash": "03758166f3c350b0c3c5000ff3d524a7541ed58a754b7f6ef78a22d8b5e5418c"
   }
  }
 },
 "nbformat": 4,
 "nbformat_minor": 2
}
